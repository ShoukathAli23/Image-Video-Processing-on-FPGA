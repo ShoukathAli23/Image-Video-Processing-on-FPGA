{
 "cells": [
  {
   "cell_type": "code",
   "execution_count": null,
   "metadata": {
    "scrolled": true
   },
   "outputs": [],
   "source": [
    "from pynq import Overlay\n",
    "from pynq.lib.video import *\n",
    "\n",
    "overlay = Overlay('color_detection.bit')\n",
    "#overlay?\n",
    "#hdmi_in = base.video.hdmi_in\n",
    "hdmi_out = overlay.video.hdmi_out\n",
    "print('done')"
   ]
  },
  {
   "cell_type": "code",
   "execution_count": null,
   "metadata": {},
   "outputs": [],
   "source": [
    "mode = VideoMode(1920,1080,32,stride=None)\n",
    "hdmi_out.configure(mode,PIXEL_RGBA)\n",
    "\n",
    "\n",
    "#PIXEL_RGB = PixelFormat(24, COLOR_IN_RGB, COLOR_OUT_RGB, \"RG24\")\n",
    "#PIXEL_RGBA = PixelFormat(32, COLOR_IN_RGB, COLOR_OUT_RGB, \"RA24\")\n",
    "#PIXEL_BGR = PixelFormat(24, COLOR_IN_BGR, COLOR_OUT_BGR, \"BG24\")\n",
    "#PIXEL_YCBCR = PixelFormat(24, COLOR_IN_YCBCR, COLOR_OUT_YCBCR, \"YU24\")\n",
    "#PIXEL_GRAY = PixelFormat(8, COLOR_IN_YCBCR, COLOR_OUT_GRAY)\n",
    "print('done')"
   ]
  },
  {
   "cell_type": "code",
   "execution_count": null,
   "metadata": {},
   "outputs": [],
   "source": [
    "import cv2\n",
    "import numpy as np\n",
    "#from matplotlib import pyplot as plt\n",
    "from pynq.lib.video import *\n",
    "\n",
    "img = cv2.imread('color_hd.png') # always read as BGR\n",
    "#img = cv2.cvtColor(im, cv2.COLOR_BGR2RGB)\n",
    "\n",
    "h, w , d= img.shape\n",
    "\n",
    "print(h,w)\n",
    "\n",
    "r, g, b = cv2.split(img)\n",
    "\n",
    "r = r.astype(np.uint32)\n",
    "g = g.astype(np.uint32)\n",
    "b = b.astype(np.uint32)\n",
    "print('done')"
   ]
  },
  {
   "cell_type": "code",
   "execution_count": null,
   "metadata": {},
   "outputs": [],
   "source": [
    "#rgb = np.zeros([h,w],dtype=np.uint32)\n",
    "#a = np.ones([h,w],dtype=np.uint32)\n",
    "#rgb = np.add(r<<24,g<<16,b<<8)\n",
    "#rgb = np.add(rgb,a)\n",
    "#print('done')"
   ]
  },
  {
   "cell_type": "code",
   "execution_count": null,
   "metadata": {},
   "outputs": [],
   "source": [
    "from matplotlib import pyplot as plt\n",
    "from pynq import Xlnk\n",
    "################\n",
    "rgb = np.zeros([h,w],dtype=np.uint32)\n",
    "a = np.zeros([h,w],dtype=np.uint32)\n",
    "#c = 255*np.ones([h,w],dtype=np.uint32)\n",
    "\n",
    "rgb = np.add(np.add(a<<24,r<<16),np.add(g<<8,b))\n",
    "\n",
    "#######################################\n",
    "xlnk = Xlnk()\n",
    "input_buffer = xlnk.cma_array(shape=(h,w), dtype=np.uint32)\n",
    "\n",
    "input_buffer[0:h,0:w] = rgb[0:h,0:w];\n",
    "#plt.imshow(input_buffer)"
   ]
  },
  {
   "cell_type": "code",
   "execution_count": null,
   "metadata": {},
   "outputs": [],
   "source": [
    "hdmi_out.start()"
   ]
  },
  {
   "cell_type": "code",
   "execution_count": null,
   "metadata": {},
   "outputs": [],
   "source": [
    "hdmi_out.writeframe(input_buffer)"
   ]
  },
  {
   "cell_type": "code",
   "execution_count": null,
   "metadata": {},
   "outputs": [],
   "source": [
    "crtl = hdmi_out.Colour_Filter_0\n",
    "#help(crtl)"
   ]
  },
  {
   "cell_type": "code",
   "execution_count": null,
   "metadata": {},
   "outputs": [],
   "source": [
    "# if lower limit = 0 , upper limit = 0 then pass through\n",
    "# else apply limits\n",
    "crtl.write(0x04,0) # lower limit\n",
    "crtl.write(0x08,0) # upper limit\n",
    "crtl.read(0x04)\n",
    "crtl.read(0x08)"
   ]
  },
  {
   "cell_type": "code",
   "execution_count": null,
   "metadata": {},
   "outputs": [],
   "source": [
    "input_buffer.freebuffer()"
   ]
  },
  {
   "cell_type": "code",
   "execution_count": null,
   "metadata": {},
   "outputs": [],
   "source": [
    "hdmi_out.close()"
   ]
  },
  {
   "cell_type": "code",
   "execution_count": null,
   "metadata": {},
   "outputs": [],
   "source": []
  },
  {
   "cell_type": "code",
   "execution_count": null,
   "metadata": {},
   "outputs": [],
   "source": [
    "import cv2\n",
    "from matplotlib import pyplot as plt\n",
    "\n",
    "hue_range = cv2.imread('hue_range.jpg')\n",
    "hue_range = cv2.cvtColor(hue_range, cv2.COLOR_BGR2RGB)\n",
    "plt.imshow(hue_range)"
   ]
  },
  {
   "cell_type": "code",
   "execution_count": null,
   "metadata": {},
   "outputs": [],
   "source": [
    "from ipywidgets import interact\n",
    "from matplotlib import pyplot as plt\n",
    "import numpy as np\n",
    "from time import sleep\n",
    "import cv2\n",
    "\n",
    "def pxl(r,g,b):\n",
    "    sleep(2)\n",
    "    pxl_clr = np.ones([3,30,3],np.uint8)\n",
    "    print(r,g,b)\n",
    "    pxl_clr[:,:,0] = r*pxl_clr[:,:,0]\n",
    "    pxl_clr[:,:,1] = g*pxl_clr[:,:,1]\n",
    "    pxl_clr[:,:,2] = b*pxl_clr[:,:,2]\n",
    "    plt.imshow(pxl_clr)\n",
    "    val = np.uint8([[[r,g,b]]])\n",
    "    \n",
    "    max_val = max(r,g,b)\n",
    "    min_val = min(r,g,b)\n",
    "    \n",
    "    diff = max_val - min_val\n",
    "    \n",
    "    if max_val == min_val:\n",
    "        hue = 0\n",
    "    elif max_val == r:\n",
    "        hue = (((g-b)/diff)*60)\n",
    "    elif max_val == g:\n",
    "        hue = ((2 + ((b-r)/diff))*60)\n",
    "    elif max_val == b:\n",
    "        hue = ((4 + ((r-g)/diff))*60)   \n",
    "    if hue < 0:\n",
    "        hue = 360 + hue\n",
    "    print(\"hue: \",int(hue))\n",
    "    return([r,g,b])\n",
    "\n",
    "r = interact(pxl,r=(0, 255,1),g=(0, 255,2),b=(0, 255,3))\n",
    "\n",
    "\n",
    "print(r)"
   ]
  },
  {
   "cell_type": "code",
   "execution_count": null,
   "metadata": {},
   "outputs": [],
   "source": []
  }
 ],
 "metadata": {
  "kernelspec": {
   "display_name": "Python 3",
   "language": "python",
   "name": "python3"
  },
  "language_info": {
   "codemirror_mode": {
    "name": "ipython",
    "version": 3
   },
   "file_extension": ".py",
   "mimetype": "text/x-python",
   "name": "python",
   "nbconvert_exporter": "python",
   "pygments_lexer": "ipython3",
   "version": "3.6.5"
  }
 },
 "nbformat": 4,
 "nbformat_minor": 2
}
